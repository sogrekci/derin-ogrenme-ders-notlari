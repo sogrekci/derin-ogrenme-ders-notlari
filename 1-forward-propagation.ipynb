{
 "cells": [
  {
   "cell_type": "markdown",
   "metadata": {},
   "source": [
    "# Forward Propagation\n",
    "\n",
    "Son yıllarda sosyal medyada ya da haber sitelerinde sıklıkla ***yapay zeka***, ***makine öğrenmesi***, ***sinir ağları***, ***derin öğrenme*** gibi terimler içeren çok heyecan verici başlıklar atılıyor. Adı üstünde bu terimler bilgisayarların açıkça programlanmadıkları görevleri yerine getirebilecek şekilde çalışabilmeleri durumunu ima ediyor, peki nedir bu işin aslı? Bu konularla ilgili daha önce hiç bir teknik yazı okumadıysanız bu yazım size hitap edecektir, çok az teknik detayla ve minimum Python bilgisi ile dilim döndüğü kadar konuyu anlatmaya çalışacağım.\n",
    "\n",
    "Öncelikle bu terimleri sınıflandırmalıyız, yapay zeka ve makine öğrenmesi terimleri oldukça genel terimlerdir. Bunların ortak yöntemleri olduğu gibi birbiri ile kesişmeyen ayrı uygulamaları ve yöntemleri de vardır; tam olarak bu terimlerin hiyerarşisi konusunda ortak bir fikir de yoktur. Ama *derin öğrenme* denilen şey makine öğrenmesi yöntemlerinden birisi; sinir ağları (neural networks) denilen başka bir yöntemin ardışık olarak uygulanması olarak açıklanabilir ve bu yöntem günümüzde en modern ve etkili yöntem olarak kabul ediliyor.\n",
    "\n",
    "Makine nasıl öğrenir? Bu aslında ***öğrenmeyi*** nasıl tanımladığınıza bağlı. Esasında makine öğrenmez (çünkü o bir makinedir), sadece çok hızlı bir şekilde deneme yanılma yapar. Ona çok sayıda soru ve bunların cevaplarını verirseniz, makine bunlar arasında rastgele bir eşleşme kurar ve bu eşleşmenin gerçek cevaplarla ne kadar örtüştüğünü test eder. Bu işlemi defalarca tekrarlar ve her seferinde eşleşmenin hatasını ölçüp eşleşmeyi daha doğru olacak şekilde bir miktar düzeltir. Böylece makine bir şablona sahip olur ve makineye benzer bir soru (daha önce hiç görmediği bir soru) sorduğunuzda ürettiği eşleşmeye göre bir cevap verir. Sonuç olarak makine bir soruya nasıl cevap vereceği konusunda açık olarak programlanmamıştır fakat benzer soru ve cevapları inceleyerek bir tahmin üretebilir duruma gelmiştir. ***Makine öğrenmesi*** denilen olay kabaca budur, burada eşleşmeyi düzeltme aşaması makinenin ***öğrenme*** aşaması olarak adlandırılır. Bu sürecin her bir aşaması için farklı yöntemler vardır, ele alınan probleme en uygun yöntemi seçerek çalışırız.\n",
    "\n",
    "Bu yazımda size bu aşamaları nasıl kodlayabileceğinizi çok kaba bir şekilde açıklayacağım. Makine öğrenmesi çalışmalarında bu amaca yönelik özel modüller (tensorflow, pytorch, keras gibi) kullanılır ama biz şimdi çok temel Python elemanlarını kullanarak el yordamıyla çok basit programlar yazacağız, amacım size süreci açıklamak.\n",
    "\n",
    "### Tahmin Etme\n",
    "\n",
    "Öncelikle makinenin nasıl tahmin ürettiğini açıklayacağım. Farz edelim ki bir futbol takımının (mesela Antalyaspor) önceki maçlarına ait bilgileri kullanarak belirli bir maçı kazanıp kazanamayacağının tahminini yapmaya çalışıyoruz, basitlik açısından sadece kazanmak ve kaybetmek durumlarının olduğunu kabul edelim, beraberlik yok. Şimdi sadece tahmin olayını açıkladığımız için biz (insan olarak) önceki maçların bilgilerini analiz ettiğimizi ve öğrenme aşamasını tamamladığımızı düşünelim. Bu analiz sonucunda şöyle bir çıkarımda bulunduk mesela: *takımın attığı şut sayısı maçı kazanma durumunu yüksek derecede etkiliyor!* Örneğin takımımız 1 şut attığı maçların çok azını kazanmış, 5 ila 10 şut attığı maçların bazılarını kazanmış, 10-20 gol attığı maçların çoğunu kazanmış ve daha fazla gol attığı maçların hepsini kazanmış.\n",
    "\n",
    "Şu aşamada tahminimizi sadece şut sayısına göre şekillendiriyoruz, bir maçta takımımızın kaç şut attığına bakarak maçı kazanım kazanamadığını tahmin edeceğiz. Şut sayısının tahminimini etkileme oranına *ağırlık* katsayısı (***weight***) diyoruz. Tahmini de şöyle yapıyoruz; şut sayısını input olarak alıyoruz ve bu sayıyı weight ile çarpıp bir output üretiyoruz. Bu output değeri bu maçı kazanma ihtimalimizi belirten bir sayı; ne kadar büyük ise o kadar yüksek ihtimal.\n",
    "\n",
    "![](img\deep_learning_1.jpg)\n",
    "\n",
    "Söylediğim gibi tahmin yapmak olarak belirttiğimiz şey sadece şut sayısını weight ile çarpmak, oldukça basit ama mantıklı! Aşağıdaki basit program bu tahmini yapabilir. Şut sayısının tahmini etkileme katsayısı (weight) 0.2 olsun."
   ]
  },
  {
   "cell_type": "code",
   "execution_count": 1,
   "metadata": {},
   "outputs": [
    {
     "name": "stdout",
     "output_type": "stream",
     "text": [
      "0.5\n"
     ]
    }
   ],
   "source": [
    "weight = 0.2\n",
    "\n",
    "def neural_network(input, weight):\n",
    "    prediction = input*weight\n",
    "    return prediction\n",
    "\n",
    "number_of_shots = [2.5, 7.5, 10.0, 3.5] #farkli maclardaki ortalama sut sayiları\n",
    "input = number_of_shots[0] #ilk mac icin tahmin yapacagiz\n",
    "pred = neural_network(input, weight) #tahmin\n",
    "print(pred)"
   ]
  },
  {
   "cell_type": "markdown",
   "metadata": {},
   "source": [
    "Yukarıda yazdığınız fonksiyon bir sinir ağı (neural network) olarak adlandırılır, görüp görebileceğiniz en basit sinir ağı budur fakat hepsinin mantığı aynıdır.\n",
    "\n",
    "Şimdi tahmin mekanizmasını biraz geliştirelim, mesela sadece şut değil atılan başarılı pas sayısı ve maçı izleyen seyirci sayısı da tahminimizi etkilesin. Bunların weight değerleri 0.025 (pas), 0.1 (şut) ve 0.01 (seyirci) olsun. Bu durumda ver bir input (pas, şut ve seyirci) değerini kendi weight değeri ile çarpıp toplayacağız.\n",
    "\n",
    "![](img/deep_learning_2.jpg)"
   ]
  },
  {
   "cell_type": "code",
   "execution_count": 2,
   "metadata": {},
   "outputs": [
    {
     "name": "stdout",
     "output_type": "stream",
     "text": [
      "0.8495\n"
     ]
    }
   ],
   "source": [
    "weights = [0.025, 0.1, 0.01]\n",
    "\n",
    "def neural_network(input, weights):\n",
    "    pred = w_sum(input, weights)\n",
    "    return pred\n",
    "\n",
    "def w_sum(a, b):\n",
    "    assert(len(a) == len(b))\n",
    "    output = 0\n",
    "    for i in range(len(a)):\n",
    "        output += a[i]*b[i]\n",
    "    return output\n",
    "\n",
    "passes = [23.5, 39.25, 10.9, 40.8]\n",
    "shots = [2.5, 7.5, 10.0, 3.5]\n",
    "fans = [1.2, 1.3, 0.5, 1.0] #x10K\n",
    "\n",
    "input = [passes[0], shots[0], fans[0]]\n",
    "\n",
    "pred = neural_network(input, weights)\n",
    "\n",
    "print(pred)"
   ]
  },
  {
   "cell_type": "markdown",
   "metadata": {},
   "source": [
    "Bu programı **numpy** ile daha basit olarak da kodlayabiliriz, `w_sum` olarak tanımladığımız işlem aslında nokta çarpım (`dot`) işleminden başka bir şey değildir."
   ]
  },
  {
   "cell_type": "code",
   "execution_count": 3,
   "metadata": {},
   "outputs": [
    {
     "name": "stdout",
     "output_type": "stream",
     "text": [
      "0.8495\n"
     ]
    }
   ],
   "source": [
    "import numpy as np\n",
    "\n",
    "weights = np.array([0.025, 0.1, 0.01])\n",
    "\n",
    "def neural_network(input, weights):\n",
    "    pred = input.dot(weights)\n",
    "    return pred\n",
    "\n",
    "passes = np.array([23.5, 39.25, 10.9, 40.8])\n",
    "shots = np.array([2.5, 7.5, 10.0, 3.5])\n",
    "fans = np.array([1.2, 1.3, 0.5, 1.0])\n",
    "\n",
    "input = np.array([passes[0], shots[0], fans[0]])\n",
    "pred = neural_network(input, weights)\n",
    "print(pred)"
   ]
  },
  {
   "cell_type": "markdown",
   "metadata": {},
   "source": [
    "Şimdi bir de tek bir input ile çoklu output üretelim, mesela atılan şut sayısını kullanarak maçı kazanma, futbolcuların mutlu olması ve takımın gelirinin artması olasılıklarını tahmin edelim. Bunların her biri için weight değerleri aşağıdaki gibi olsun, tek tahmin için yaptığımız işi her bir tahmin için tekrar edeceğiz.\n",
    "\n",
    "![](img/deep_learning_3.jpg)"
   ]
  },
  {
   "cell_type": "code",
   "execution_count": 4,
   "metadata": {},
   "outputs": [
    {
     "name": "stdout",
     "output_type": "stream",
     "text": [
      "[0.75, 0.5, 0.875]\n"
     ]
    }
   ],
   "source": [
    "weights = [0.3, 0.2, 0.35]\n",
    "\n",
    "def neural_network(input, weights):\n",
    "    pred = ele_mul(input, weights)\n",
    "    return pred\n",
    "\n",
    "def ele_mul(number, vector):\n",
    "    output = [0, 0, 0]\n",
    "    assert(len(output) == len(vector))\n",
    "    for i in range(len(vector)):\n",
    "        output[i] = number*vector[i]\n",
    "    return output\n",
    "\n",
    "shots = [2.5, 7.5, 10.0, 3.5]\n",
    "input = shots[0]\n",
    "pred = neural_network(input, weights)\n",
    "\n",
    "print(pred)"
   ]
  },
  {
   "cell_type": "markdown",
   "metadata": {},
   "source": [
    "Şimdi de çoklu input ile çoklu output üretelim. Bu durumda pas, şut ve taraftar sayılarının kazanmaya, mutluluğa ve kazanca ayır ayrı etkileri için ayrı weight değerlerine ihtiyacımız var, toplam 9 tane. Her bir weight değerini ilgili sayı ile çarpıp toplayacağız. Anlayacağınız gibi weight değerleri bir matris oluşturacak ve bir matris çarpması yapacağız ve mantık aynı, sadece çarptığımız nesnelerin boyutları farklı.\n",
    "\n",
    "![](img/deep_learning_4.jpg)"
   ]
  },
  {
   "cell_type": "code",
   "execution_count": 5,
   "metadata": {},
   "outputs": [
    {
     "name": "stdout",
     "output_type": "stream",
     "text": [
      "[0.9474999999999999, 0.735, 0.87]\n"
     ]
    }
   ],
   "source": [
    "weights = [\n",
    "    [0.045, 0.1, -0.3], #win?\n",
    "    [0.01, 0.2, 0.0], #happy?\n",
    "    [0.0, 0.3, 0.1] #income?\n",
    "]\n",
    "\n",
    "def neural_network(input, weights):\n",
    "    pred = vect_mat_mul(input, weights)\n",
    "    return pred\n",
    "\n",
    "def w_sum(a, b):\n",
    "    assert(len(a) == len(b))\n",
    "    output = 0\n",
    "    for i in range(len(a)):\n",
    "        output += a[i]*b[i]\n",
    "    return output\n",
    "\n",
    "def vect_mat_mul(vector, matrix):\n",
    "    assert(len(vector) == len(matrix))\n",
    "    output = [0, 0, 0]\n",
    "    for i in range(len(vector)):\n",
    "        output[i] = w_sum(vector, matrix[i])\n",
    "    return output\n",
    "\n",
    "passes = [23.5, 39.25, 10.9, 40.8]\n",
    "shots = [2.5, 7.5, 10.0, 3.5]\n",
    "fans = [1.2, 1.3, 0.5, 1.0]\n",
    "\n",
    "input = [passes[0], shots[0], fans[0]]\n",
    "pred = neural_network(input, weights)\n",
    "\n",
    "print(pred)"
   ]
  },
  {
   "cell_type": "markdown",
   "metadata": {},
   "source": [
    "Buraya kadar öğrendiğimiz her şey makine öğrenmesi lügatında ***forward propagation*** olarak adlandırılır.\n",
    "\n",
    "Bazen (aslında sıklıkla) çoklu tahminler yaparız, yani tahminde bulunduktan sonra bu tahminleri tekrar input olarak programa verip bunun üzerine bir tahminde daha bulunuruz. Bunun sebebini daha sonra anlayacaksınız, şimdilik böyle bir şeyin yapıldığnı bilmeniz yeterli."
   ]
  },
  {
   "cell_type": "code",
   "execution_count": 6,
   "metadata": {},
   "outputs": [
    {
     "name": "stdout",
     "output_type": "stream",
     "text": [
      "[0.47090000000000004, 0.7633000000000001, 0.8935000000000002]\n"
     ]
    }
   ],
   "source": [
    "#passes #shots #fans\n",
    "ih_weight = [\n",
    "    [0.1, 0.2, -0.1], #hid[0]\n",
    "    [0.1, 0.1, 0.9], #hid[1]\n",
    "    [0.1, 0.4, 0.1] #hid[2]\n",
    "]\n",
    "\n",
    "#hid[0] #hid[1] #hid[2]\n",
    "hp_weight = [\n",
    "    [0.03, 0.2, -0.1], #hurt?\n",
    "    [0.01, 0.2, 0.0], #win?\n",
    "    [0.05, 0.3, -0.1] #sad\n",
    "]\n",
    "\n",
    "weights = [ih_weight, hp_weight]\n",
    "\n",
    "def neural_network(input, weights):\n",
    "    hid = vect_mat_mul(input, weights[0])\n",
    "    pred = vect_mat_mul(hid, weights[1])\n",
    "    return pred\n",
    "\n",
    "def w_sum(a, b):\n",
    "    assert(len(a) == len(b))\n",
    "    output = 0\n",
    "    for i in range(len(a)):\n",
    "        output += a[i]*b[i]\n",
    "    return output\n",
    "\n",
    "def vect_mat_mul(vector, matrix):\n",
    "    assert(len(vector) == len(matrix))\n",
    "    output = [0, 0, 0]\n",
    "    for i in range(len(vector)):\n",
    "        output[i] = w_sum(vector, matrix[i])\n",
    "    return output\n",
    "\n",
    "passes = [23.5, 39.25, 10.9, 40.8]\n",
    "shots = [2.5, 7.5, 10.0, 3.5]\n",
    "fans = [1.2, 1.3, 0.5, 1.0]\n",
    "\n",
    "pred = neural_network(input, weights)\n",
    "print(pred)"
   ]
  },
  {
   "cell_type": "markdown",
   "metadata": {},
   "source": [
    "Aşağıdaki program da bunun numpy versiyonudur"
   ]
  },
  {
   "cell_type": "code",
   "execution_count": 7,
   "metadata": {},
   "outputs": [
    {
     "name": "stdout",
     "output_type": "stream",
     "text": [
      "[0.4709 0.7633 0.8935]\n"
     ]
    }
   ],
   "source": [
    "import numpy as np\n",
    "\n",
    "#toes %win #fans\n",
    "ih_wgt = np.array([ \n",
    "            [0.1, 0.2, -0.1], #hid[0]\n",
    "            [0.1, 0.1, 0.9], #hid[1]\n",
    "            [0.1, 0.4, 0.1]]).T #hid[2]\n",
    "\n",
    "\n",
    "# hid[0] hid[1] hid[2]\n",
    "hp_wgt = np.array([  \n",
    "            [0.03, 0.2, -0.1], #hurt?\n",
    "            [0.01, 0.2, 0.0], #win?\n",
    "            [0.05, 0.3, -0.1]]).T #sad?\n",
    "\n",
    "weights = [ih_wgt, hp_wgt]\n",
    "\n",
    "def neural_network(input, weights):\n",
    "\n",
    "    hid = input.dot(weights[0])\n",
    "    pred = hid.dot(weights[1])\n",
    "    return pred\n",
    "\n",
    "\n",
    "passes =  np.array([23.5, 39.25, 10.9, 40.8])\n",
    "shots = np.array([2.5, 7.5, 10.0, 3.5])\n",
    "fans = np.array([1.2, 1.3, 0.5, 1.0])\n",
    "\n",
    "input = np.array([passes[0],shots[0],fans[0]])\n",
    "\n",
    "pred = neural_network(input,weights)\n",
    "print(pred)"
   ]
  },
  {
   "cell_type": "code",
   "execution_count": null,
   "metadata": {},
   "outputs": [],
   "source": []
  }
 ],
 "metadata": {
  "kernelspec": {
   "display_name": "Python 3",
   "language": "python",
   "name": "python3"
  },
  "language_info": {
   "codemirror_mode": {
    "name": "ipython",
    "version": 3
   },
   "file_extension": ".py",
   "mimetype": "text/x-python",
   "name": "python",
   "nbconvert_exporter": "python",
   "pygments_lexer": "ipython3",
   "version": "3.6.1"
  }
 },
 "nbformat": 4,
 "nbformat_minor": 4
}
